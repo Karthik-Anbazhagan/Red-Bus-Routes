{
 "cells": [
  {
   "cell_type": "code",
   "execution_count": 1,
   "metadata": {},
   "outputs": [
    {
     "name": "stdout",
     "output_type": "stream",
     "text": [
      "Requirement already satisfied: pymysql in e:\\stremlit_red_bus_project\\env\\lib\\site-packages (1.1.1)\n",
      "Note: you may need to restart the kernel to use updated packages.\n"
     ]
    },
    {
     "name": "stderr",
     "output_type": "stream",
     "text": [
      "\n",
      "[notice] A new release of pip is available: 24.0 -> 24.3.1\n",
      "[notice] To update, run: python.exe -m pip install --upgrade pip\n"
     ]
    }
   ],
   "source": [
    "pip install pymysql"
   ]
  },
  {
   "cell_type": "code",
   "execution_count": 1,
   "metadata": {},
   "outputs": [],
   "source": [
    "import pymysql"
   ]
  },
  {
   "cell_type": "code",
   "execution_count": 2,
   "metadata": {},
   "outputs": [
    {
     "data": {
      "text/plain": [
       "1"
      ]
     },
     "execution_count": 2,
     "metadata": {},
     "output_type": "execute_result"
    }
   ],
   "source": [
    "#Create mysql database\n",
    "#sql connection\n",
    "conn=pymysql.connect(host=\"localhost\", user=\"root\", password=\"12345\")\n",
    "my_cursor=conn.cursor()\n",
    "my_cursor.execute(\"CREATE DATABASE IF NOT EXISTS red_bus\")"
   ]
  },
  {
   "cell_type": "code",
   "execution_count": 3,
   "metadata": {},
   "outputs": [
    {
     "data": {
      "text/plain": [
       "0"
      ]
     },
     "execution_count": 3,
     "metadata": {},
     "output_type": "execute_result"
    }
   ],
   "source": [
    "my_cursor.execute(\"USE red_bus\")"
   ]
  },
  {
   "cell_type": "code",
   "execution_count": 4,
   "metadata": {},
   "outputs": [
    {
     "name": "stdout",
     "output_type": "stream",
     "text": [
      "Table Created Successfully\n"
     ]
    }
   ],
   "source": [
    "#table creation\n",
    "my_cursor.execute('''CREATE TABLE bus_details(\n",
    "    ID INT AUTO_INCREMENT PRIMARY KEY,\n",
    "    Bus_name VARCHAR(255) NOT NULL,\n",
    "    Bus_type VARCHAR(255) NOT NULL,\n",
    "    Departing_time TIME NOT NULL,\n",
    "    Reaching_time TIME NOT NULL,\n",
    "    Duration VARCHAR(255) NOT NULL,\n",
    "    Price FLOAT NULL,\n",
    "    Star_rating FLOAT NULL,\n",
    "    Seat_available VARCHAR(255) NOT NULL,\n",
    "    Route_links VARCHAR(255) NULL,\n",
    "    Route_names VARCHAR(255) NULL\n",
    ")''')\n",
    "\n",
    "print(\"Table Created Successfully\")\n"
   ]
  },
  {
   "cell_type": "code",
   "execution_count": 5,
   "metadata": {},
   "outputs": [],
   "source": [
    "import pandas as pd"
   ]
  },
  {
   "cell_type": "code",
   "execution_count": null,
   "metadata": {},
   "outputs": [],
   "source": [
    "#Final_df details\n",
    "#read csv file\n",
    "Final_df1 = pd.read_csv(\"Final_df1.csv\")\n",
    "Final_df1"
   ]
  },
  {
   "cell_type": "code",
   "execution_count": 7,
   "metadata": {},
   "outputs": [
    {
     "name": "stdout",
     "output_type": "stream",
     "text": [
      "Index(['Unnamed: 0.1', 'Unnamed: 0', 'Bus_name', 'Bus_type', 'Departing_time',\n",
      "       'Reaching_time', 'Duration', 'Price', 'Star_rating', 'Seat_available',\n",
      "       'Route_links', 'Route_names'],\n",
      "      dtype='object')\n",
      "[['KSRTC (Kerala) - 581', 'Super Express Non-AC-Seater Air Bus (2+2)', '10:00', '18:22', '08h 22m', 469.0, 4.1, 1, 'https://www.redbus.in/bus-tickets/bangalore-to-kozhikode', 'Bangalore to Kozhikode'], ['KSRTC (Kerala) - 52', 'SWIFT-GARUDA AC Seater BUS', '12:00', '20:20', '08h 20m', 627.0, 4.0, 7, 'https://www.redbus.in/bus-tickets/bangalore-to-kozhikode', 'Bangalore to Kozhikode'], ['KSRTC (Kerala) - 1378', 'AC Seater', '13:46', '21:25', '07h 39m', 729.0, 2.5, 1, 'https://www.redbus.in/bus-tickets/bangalore-to-kozhikode', 'Bangalore to Kozhikode'], ['KSRTC (Kerala) - 235', 'Swift Deluxe Non-AC-Seater Air Bus (2+2)', '15:00', '01:00', '10h 00m', 620.0, 4.0, 2, 'https://www.redbus.in/bus-tickets/bangalore-to-kozhikode', 'Bangalore to Kozhikode'], ['KSRTC (Kerala) - 370', 'AC Seater', '15:25', '23:45', '08h 20m', 729.0, 2.9, 1, 'https://www.redbus.in/bus-tickets/bangalore-to-kozhikode', 'Bangalore to Kozhikode']]\n",
      "Values inserted successfully\n"
     ]
    }
   ],
   "source": [
    "# SQL query to insert data into bus_details table\n",
    "insert_query = '''INSERT INTO bus_details(\n",
    "                    Bus_name,\n",
    "                    Bus_type,\n",
    "                    Departing_time,\n",
    "                    Reaching_time,\n",
    "                    Duration,\n",
    "                    Price,\n",
    "                    Star_rating,\n",
    "                    Seat_available,\n",
    "                    Route_links,\n",
    "                    Route_names)\n",
    "                VALUES(%s, %s, %s, %s, %s, %s, %s, %s, %s, %s)'''\n",
    "\n",
    "# Print the columns to verify their names\n",
    "print(Final_df1.columns)\n",
    "\n",
    "# Ensure the columns are in the right order and have correct data types\n",
    "data = Final_df1[['Bus_name', 'Bus_type', 'Departing_time', 'Reaching_time', 'Duration', 'Price', 'Star_rating', 'Seat_available', 'Route_links', 'Route_names']].values.tolist()\n",
    "\n",
    "# Check the data before inserting\n",
    "print(data[:5])  # Print the first 5 rows to inspect\n",
    "\n",
    "# Insert data into the bus_details table using executemany\n",
    "my_cursor.executemany(insert_query, data)\n",
    "\n",
    "# Commit the transaction to the database\n",
    "conn.commit()\n",
    "\n",
    "# Success message\n",
    "print(\"Values inserted successfully\")\n"
   ]
  }
 ],
 "metadata": {
  "kernelspec": {
   "display_name": "env",
   "language": "python",
   "name": "python3"
  },
  "language_info": {
   "codemirror_mode": {
    "name": "ipython",
    "version": 3
   },
   "file_extension": ".py",
   "mimetype": "text/x-python",
   "name": "python",
   "nbconvert_exporter": "python",
   "pygments_lexer": "ipython3",
   "version": "3.12.3"
  }
 },
 "nbformat": 4,
 "nbformat_minor": 2
}
